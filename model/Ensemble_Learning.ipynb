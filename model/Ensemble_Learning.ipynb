{
  "nbformat": 4,
  "nbformat_minor": 0,
  "metadata": {
    "colab": {
      "name": "Ensemble_Learning.ipynb",
      "provenance": [],
      "collapsed_sections": [
        "q4olXtiXJiP1",
        "KC3qBT1PHiz2",
        "A6mk5XrZJ4nW",
        "hIXfxLaumQwQ",
        "eBEkFG1LGjqD"
      ],
      "toc_visible": true
    },
    "kernelspec": {
      "name": "python3",
      "display_name": "Python 3"
    },
    "accelerator": "GPU"
  },
  "cells": [
    {
      "cell_type": "code",
      "metadata": {
        "id": "j6Sfx8LbV1Np"
      },
      "source": [
        "!pip install GML"
      ],
      "execution_count": null,
      "outputs": []
    },
    {
      "cell_type": "code",
      "metadata": {
        "id": "l1T9rGl2VA_E",
        "colab": {
          "base_uri": "https://localhost:8080/"
        },
        "outputId": "e2a5c38e-03a5-4da6-dda1-6d15e89093c9"
      },
      "source": [
        "import matplotlib.pyplot as plt\n",
        "import numpy as np\n",
        "import pandas as pd\n",
        "import random\n",
        "from sklearn.model_selection import train_test_split\n",
        "from sklearn.metrics import accuracy_score, auc, confusion_matrix, f1_score, precision_score, roc_curve, recall_score\n",
        "import os\n",
        "\n",
        "import matplotlib.cm as cm\n",
        "import seaborn as sn\n",
        "from GML import AutoML"
      ],
      "execution_count": null,
      "outputs": [
        {
          "output_type": "stream",
          "text": [
            "Since the GPL-licensed package `unidecode` is not installed, using Python's `unicodedata` package which yields worse results.\n"
          ],
          "name": "stderr"
        },
        {
          "output_type": "stream",
          "text": [
            "GML is up to date \n",
            " \n",
            "\r\n",
            "\r\n",
            "Feel free to contact us at: https://github.com/Muhammad4hmed/GML\n",
            "Your GML is ready!\n"
          ],
          "name": "stdout"
        }
      ]
    },
    {
      "cell_type": "markdown",
      "metadata": {
        "id": "pfJDM9EPWDsL"
      },
      "source": [
        "# **Prepare Data**"
      ]
    },
    {
      "cell_type": "code",
      "metadata": {
        "id": "1kUC2uUDWG2Q"
      },
      "source": [
        "ensemble = pd.read_csv('/content/drive/MyDrive/Colab Notebooks/聖馬爾定/csv/ensemble.csv')\n",
        "\n",
        "train = pd.read_csv('/content/drive/MyDrive/Colab Notebooks/聖馬爾定/csv/train.csv')\n",
        "test = pd.read_csv('/content/drive/MyDrive/Colab Notebooks/聖馬爾定/csv/test.csv')"
      ],
      "execution_count": null,
      "outputs": []
    },
    {
      "cell_type": "code",
      "metadata": {
        "id": "u7RCt4boWj_o"
      },
      "source": [
        "ensemble_train = train.merge(ensemble, on='picture_name').drop(columns=['label_x', 'path_x', 'path_y']).copy()\n",
        "ensemble_test = test.merge(ensemble, on='picture_name').drop(columns=['label_x', 'path_x', 'path_y']).copy()"
      ],
      "execution_count": null,
      "outputs": []
    },
    {
      "cell_type": "code",
      "metadata": {
        "colab": {
          "base_uri": "https://localhost:8080/",
          "height": 204
        },
        "id": "QTK6u4HDYQZw",
        "outputId": "564c93c5-b48a-4472-f016-5ea5630c5861"
      },
      "source": [
        "ensemble_train.head()"
      ],
      "execution_count": null,
      "outputs": [
        {
          "output_type": "execute_result",
          "data": {
            "text/html": [
              "<div>\n",
              "<style scoped>\n",
              "    .dataframe tbody tr th:only-of-type {\n",
              "        vertical-align: middle;\n",
              "    }\n",
              "\n",
              "    .dataframe tbody tr th {\n",
              "        vertical-align: top;\n",
              "    }\n",
              "\n",
              "    .dataframe thead th {\n",
              "        text-align: right;\n",
              "    }\n",
              "</style>\n",
              "<table border=\"1\" class=\"dataframe\">\n",
              "  <thead>\n",
              "    <tr style=\"text-align: right;\">\n",
              "      <th></th>\n",
              "      <th>picture_name</th>\n",
              "      <th>org_predict</th>\n",
              "      <th>jet_predict</th>\n",
              "      <th>hsv_predict</th>\n",
              "      <th>label_y</th>\n",
              "    </tr>\n",
              "  </thead>\n",
              "  <tbody>\n",
              "    <tr>\n",
              "      <th>0</th>\n",
              "      <td>0281106_0604051424_I00045272205_1.jpg</td>\n",
              "      <td>1</td>\n",
              "      <td>1</td>\n",
              "      <td>1</td>\n",
              "      <td>1</td>\n",
              "    </tr>\n",
              "    <tr>\n",
              "      <th>1</th>\n",
              "      <td>7803225_0703140750_I00052023718_1.jpg</td>\n",
              "      <td>0</td>\n",
              "      <td>1</td>\n",
              "      <td>0</td>\n",
              "      <td>0</td>\n",
              "    </tr>\n",
              "    <tr>\n",
              "      <th>2</th>\n",
              "      <td>7803225_0703140750_I00052023714_1.jpg</td>\n",
              "      <td>0</td>\n",
              "      <td>0</td>\n",
              "      <td>0</td>\n",
              "      <td>0</td>\n",
              "    </tr>\n",
              "    <tr>\n",
              "      <th>3</th>\n",
              "      <td>0118341_0512061569_I00042874895_1.jpg</td>\n",
              "      <td>0</td>\n",
              "      <td>0</td>\n",
              "      <td>1</td>\n",
              "      <td>0</td>\n",
              "    </tr>\n",
              "    <tr>\n",
              "      <th>4</th>\n",
              "      <td>0118341_0512061569_I00042874900_1.jpg</td>\n",
              "      <td>0</td>\n",
              "      <td>0</td>\n",
              "      <td>0</td>\n",
              "      <td>0</td>\n",
              "    </tr>\n",
              "  </tbody>\n",
              "</table>\n",
              "</div>"
            ],
            "text/plain": [
              "                            picture_name  org_predict  ...  hsv_predict  label_y\n",
              "0  0281106_0604051424_I00045272205_1.jpg            1  ...            1        1\n",
              "1  7803225_0703140750_I00052023718_1.jpg            0  ...            0        0\n",
              "2  7803225_0703140750_I00052023714_1.jpg            0  ...            0        0\n",
              "3  0118341_0512061569_I00042874895_1.jpg            0  ...            1        0\n",
              "4  0118341_0512061569_I00042874900_1.jpg            0  ...            0        0\n",
              "\n",
              "[5 rows x 5 columns]"
            ]
          },
          "metadata": {
            "tags": []
          },
          "execution_count": 18
        }
      ]
    },
    {
      "cell_type": "markdown",
      "metadata": {
        "id": "doLpO5V2YCxV"
      },
      "source": [
        "# **Create Model**"
      ]
    },
    {
      "cell_type": "code",
      "metadata": {
        "colab": {
          "base_uri": "https://localhost:8080/",
          "height": 422
        },
        "id": "-cIVJRQNYFqT",
        "outputId": "28ff476e-2189-4d1b-c17a-ece5baeeba76"
      },
      "source": [
        "gml_ml = AutoML()\n",
        "gml_ml.GMLClassifier(ensemble_train.iloc[:, 1:4], ensemble_train.label_y, metric = accuracy_score, folds = 10)"
      ],
      "execution_count": null,
      "outputs": [
        {
          "output_type": "stream",
          "text": [
            "LogisticRegression got score of 0.9292105263157895 in 10 folds\n",
            "DecisionTreeClassifier got score of 0.9292105263157895 in 10 folds\n",
            "KNeighborsClassifier got score of 0.9242105263157896 in 10 folds\n",
            "SGDClassifier got score of 0.8889473684210525 in 10 folds\n",
            "RandomForestClassifier got score of 0.9292105263157895 in 10 folds\n",
            "AdaBoostClassifier got score of 0.9292105263157895 in 10 folds\n",
            "ExtraTreesClassifier got score of 0.9292105263157895 in 10 folds\n",
            "XGBClassifier got score of 0.9292105263157895 in 10 folds\n",
            "LGBMClassifier got score of 0.9292105263157895 in 10 folds\n",
            "CatBoostClassifier got score of 0.9292105263157895 in 10 folds\n",
            "GradientBoostingClassifier got score of 0.9292105263157895 in 10 folds\n",
            "GaussianNB got score of 0.9292105263157895 in 10 folds\n",
            "MLPClassifier got score of 0.9292105263157895 in 10 folds\n"
          ],
          "name": "stdout"
        },
        {
          "output_type": "display_data",
          "data": {
            "image/png": "[encoded data removed]",
            "text/plain": [
              "<Figure size 1080x144 with 1 Axes>"
            ]
          },
          "metadata": {
            "tags": [],
            "needs_background": "light"
          }
        }
      ]
    },
    {
      "cell_type": "markdown",
      "metadata": {
        "id": "WbJ4wP6nd5EB"
      },
      "source": [
        "# Ensemble"
      ]
    },
    {
      "cell_type": "code",
      "metadata": {
        "id": "c_UkHEt1jUA9"
      },
      "source": [
        "from sklearn.linear_model import LogisticRegression\n",
        "from sklearn.tree import DecisionTreeClassifier\n",
        "from sklearn.ensemble import RandomForestClassifier, VotingClassifier"
      ],
      "execution_count": null,
      "outputs": []
    },
    {
      "cell_type": "code",
      "metadata": {
        "id": "3RP6LbsYjdMk"
      },
      "source": [
        "clf1 = LogisticRegression(max_iter=10000)\n",
        "clf2 = RandomForestClassifier(n_jobs=-1)\n",
        "clf3 = DecisionTreeClassifier()"
      ],
      "execution_count": null,
      "outputs": []
    },
    {
      "cell_type": "code",
      "metadata": {
        "id": "qbJdx1XTghO_"
      },
      "source": [
        "eclf1 = VotingClassifier(estimators=[('lr', clf1), ('rf', clf2), ('dt', clf3)], voting='hard')"
      ],
      "execution_count": null,
      "outputs": []
    },
    {
      "cell_type": "code",
      "metadata": {
        "id": "uiF3rCSsjQ5D"
      },
      "source": [
        "eclf1 = eclf1.fit(ensemble_train.iloc[:, 1:4], ensemble_train.label_y)"
      ],
      "execution_count": null,
      "outputs": []
    },
    {
      "cell_type": "code",
      "metadata": {
        "id": "TEw1pyAUj5bR",
        "colab": {
          "base_uri": "https://localhost:8080/",
          "height": 204
        },
        "outputId": "44b327aa-a52c-438e-ac16-18735f763b3d"
      },
      "source": [
        "train_ensemble_df = pd.DataFrame(eclf1.predict(ensemble_train.iloc[:, 1:4]), columns=['Pred'])\n",
        "train_ensemble_df['label'] = ensemble_train.label_y\n",
        "train_ensemble_df.head()"
      ],
      "execution_count": null,
      "outputs": [
        {
          "output_type": "execute_result",
          "data": {
            "text/html": [
              "<div>\n",
              "<style scoped>\n",
              "    .dataframe tbody tr th:only-of-type {\n",
              "        vertical-align: middle;\n",
              "    }\n",
              "\n",
              "    .dataframe tbody tr th {\n",
              "        vertical-align: top;\n",
              "    }\n",
              "\n",
              "    .dataframe thead th {\n",
              "        text-align: right;\n",
              "    }\n",
              "</style>\n",
              "<table border=\"1\" class=\"dataframe\">\n",
              "  <thead>\n",
              "    <tr style=\"text-align: right;\">\n",
              "      <th></th>\n",
              "      <th>Pred</th>\n",
              "      <th>label</th>\n",
              "    </tr>\n",
              "  </thead>\n",
              "  <tbody>\n",
              "    <tr>\n",
              "      <th>0</th>\n",
              "      <td>1</td>\n",
              "      <td>1</td>\n",
              "    </tr>\n",
              "    <tr>\n",
              "      <th>1</th>\n",
              "      <td>0</td>\n",
              "      <td>0</td>\n",
              "    </tr>\n",
              "    <tr>\n",
              "      <th>2</th>\n",
              "      <td>0</td>\n",
              "      <td>0</td>\n",
              "    </tr>\n",
              "    <tr>\n",
              "      <th>3</th>\n",
              "      <td>0</td>\n",
              "      <td>0</td>\n",
              "    </tr>\n",
              "    <tr>\n",
              "      <th>4</th>\n",
              "      <td>0</td>\n",
              "      <td>0</td>\n",
              "    </tr>\n",
              "  </tbody>\n",
              "</table>\n",
              "</div>"
            ],
            "text/plain": [
              "   Pred  label\n",
              "0     1      1\n",
              "1     0      0\n",
              "2     0      0\n",
              "3     0      0\n",
              "4     0      0"
            ]
          },
          "metadata": {
            "tags": []
          },
          "execution_count": 29
        }
      ]
    },
    {
      "cell_type": "code",
      "metadata": {
        "id": "6EoAQvLWkE3A",
        "colab": {
          "base_uri": "https://localhost:8080/",
          "height": 204
        },
        "outputId": "ea210519-0f47-422c-e30a-b4e6169a3c6d"
      },
      "source": [
        "test_ensemble_df = pd.DataFrame(eclf1.predict(ensemble_test.iloc[:, 1:4]), columns=['Pred'])\n",
        "test_ensemble_df['label'] = ensemble_test.label_y\n",
        "test_ensemble_df.head()"
      ],
      "execution_count": null,
      "outputs": [
        {
          "output_type": "execute_result",
          "data": {
            "text/html": [
              "<div>\n",
              "<style scoped>\n",
              "    .dataframe tbody tr th:only-of-type {\n",
              "        vertical-align: middle;\n",
              "    }\n",
              "\n",
              "    .dataframe tbody tr th {\n",
              "        vertical-align: top;\n",
              "    }\n",
              "\n",
              "    .dataframe thead th {\n",
              "        text-align: right;\n",
              "    }\n",
              "</style>\n",
              "<table border=\"1\" class=\"dataframe\">\n",
              "  <thead>\n",
              "    <tr style=\"text-align: right;\">\n",
              "      <th></th>\n",
              "      <th>Pred</th>\n",
              "      <th>label</th>\n",
              "    </tr>\n",
              "  </thead>\n",
              "  <tbody>\n",
              "    <tr>\n",
              "      <th>0</th>\n",
              "      <td>1</td>\n",
              "      <td>1</td>\n",
              "    </tr>\n",
              "    <tr>\n",
              "      <th>1</th>\n",
              "      <td>1</td>\n",
              "      <td>1</td>\n",
              "    </tr>\n",
              "    <tr>\n",
              "      <th>2</th>\n",
              "      <td>1</td>\n",
              "      <td>1</td>\n",
              "    </tr>\n",
              "    <tr>\n",
              "      <th>3</th>\n",
              "      <td>1</td>\n",
              "      <td>1</td>\n",
              "    </tr>\n",
              "    <tr>\n",
              "      <th>4</th>\n",
              "      <td>1</td>\n",
              "      <td>1</td>\n",
              "    </tr>\n",
              "  </tbody>\n",
              "</table>\n",
              "</div>"
            ],
            "text/plain": [
              "   Pred  label\n",
              "0     1      1\n",
              "1     1      1\n",
              "2     1      1\n",
              "3     1      1\n",
              "4     1      1"
            ]
          },
          "metadata": {
            "tags": []
          },
          "execution_count": 28
        }
      ]
    },
    {
      "cell_type": "code",
      "metadata": {
        "id": "aH0DfsfqaXf7"
      },
      "source": [
        "train_error_num = len(train_ensemble_df[train_ensemble_df['label'] != train_ensemble_df['Pred']])\n",
        "test_error_num = len(test_ensemble_df[test_ensemble_df['label'] != test_ensemble_df['Pred']])"
      ],
      "execution_count": null,
      "outputs": []
    },
    {
      "cell_type": "code",
      "metadata": {
        "id": "9ki7NYvvkuzu",
        "colab": {
          "base_uri": "https://localhost:8080/"
        },
        "outputId": "4af210e6-014c-4ca9-f3c0-2e1a84bd48dd"
      },
      "source": [
        "print(f'Training Error Num: {train_error_num}')\n",
        "print(f'Testing Error Num: {test_error_num}')"
      ],
      "execution_count": null,
      "outputs": [
        {
          "output_type": "stream",
          "text": [
            "Training Error Num: 14\n",
            "Testing Error Num: 3\n"
          ],
          "name": "stdout"
        }
      ]
    },
    {
      "cell_type": "code",
      "metadata": {
        "id": "bvPYK44Rogbx"
      },
      "source": [
        "train_confusion = confusion_matrix(train_ensemble_df['label'], train_ensemble_df['Pred'])"
      ],
      "execution_count": null,
      "outputs": []
    },
    {
      "cell_type": "code",
      "metadata": {
        "id": "u9VgomE8qRCw",
        "colab": {
          "base_uri": "https://localhost:8080/",
          "height": 459
        },
        "outputId": "4b9471b5-d8ff-41d4-9c87-78e9d9dff23e"
      },
      "source": [
        "SMALL_SIZE = 24\n",
        "MEDIUM_SIZE = 24\n",
        "BIGGER_SIZE = 12\n",
        "\n",
        "plt.figure(figsize = (10,7))\n",
        "plt.rc('font', size=SMALL_SIZE)          # controls default text sizes\n",
        "plt.rc('axes', titlesize=SMALL_SIZE)     # fontsize of the axes title\n",
        "plt.rc('axes', labelsize=MEDIUM_SIZE)    # fontsize of the x and y labels\n",
        "plt.rc('xtick', labelsize=SMALL_SIZE)    # fontsize of the tick labels\n",
        "plt.rc('ytick', labelsize=SMALL_SIZE)    # fontsize of the tick labels\n",
        "plt.rc('legend', fontsize=SMALL_SIZE)    # legend fontsize\n",
        "plt.rc('figure', titlesize=BIGGER_SIZE)\n",
        "sn.heatmap(train_confusion, annot=True)"
      ],
      "execution_count": null,
      "outputs": [
        {
          "output_type": "execute_result",
          "data": {
            "text/plain": [
              "<matplotlib.axes._subplots.AxesSubplot at 0x7fe6147dd310>"
            ]
          },
          "metadata": {
            "tags": []
          },
          "execution_count": 38
        },
        {
          "output_type": "display_data",
          "data": {
            "image/png": "[encoded data removed]",
            "text/plain": [
              "<Figure size 720x504 with 2 Axes>"
            ]
          },
          "metadata": {
            "tags": [],
            "needs_background": "light"
          }
        }
      ]
    },
    {
      "cell_type": "code",
      "metadata": {
        "id": "CF4olvMfpKN2"
      },
      "source": [
        "y_train = train_ensemble_df['label'].astype('int32').values\n",
        "pre_train = train_ensemble_df['Pred'].astype('int32').values"
      ],
      "execution_count": null,
      "outputs": []
    },
    {
      "cell_type": "code",
      "metadata": {
        "id": "Th7BhP45pcrc",
        "colab": {
          "base_uri": "https://localhost:8080/",
          "height": 80
        },
        "outputId": "8ecf7b0f-5d54-4a88-9d40-fb26e5ddbc8e"
      },
      "source": [
        "fpr, tpr, thresholds = roc_curve(y_train, pre_train)\n",
        "\n",
        "AUC = auc(fpr, tpr)\n",
        "\n",
        "#Accuracy\n",
        "accuracy = accuracy_score(y_train, pre_train)\n",
        "\n",
        "precision = precision_score(y_train, pre_train)\n",
        "\n",
        "recall = recall_score(y_train, pre_train)\n",
        "\n",
        "f1 = f1_score(y_train, pre_train)\n",
        "\n",
        "df_metrics_train = pd.DataFrame([[AUC, accuracy, precision, recall, f1]], columns=['auc', 'accuracy', 'precision', 'recall', 'f1'], index=['result'])\n",
        "df_metrics_train"
      ],
      "execution_count": null,
      "outputs": [
        {
          "output_type": "execute_result",
          "data": {
            "text/html": [
              "<div>\n",
              "<style scoped>\n",
              "    .dataframe tbody tr th:only-of-type {\n",
              "        vertical-align: middle;\n",
              "    }\n",
              "\n",
              "    .dataframe tbody tr th {\n",
              "        vertical-align: top;\n",
              "    }\n",
              "\n",
              "    .dataframe thead th {\n",
              "        text-align: right;\n",
              "    }\n",
              "</style>\n",
              "<table border=\"1\" class=\"dataframe\">\n",
              "  <thead>\n",
              "    <tr style=\"text-align: right;\">\n",
              "      <th></th>\n",
              "      <th>auc</th>\n",
              "      <th>accuracy</th>\n",
              "      <th>precision</th>\n",
              "      <th>recall</th>\n",
              "      <th>f1</th>\n",
              "    </tr>\n",
              "  </thead>\n",
              "  <tbody>\n",
              "    <tr>\n",
              "      <th>result</th>\n",
              "      <td>0.928769</td>\n",
              "      <td>0.929293</td>\n",
              "      <td>0.92381</td>\n",
              "      <td>0.941748</td>\n",
              "      <td>0.932692</td>\n",
              "    </tr>\n",
              "  </tbody>\n",
              "</table>\n",
              "</div>"
            ],
            "text/plain": [
              "             auc  accuracy  precision    recall        f1\n",
              "result  0.928769  0.929293    0.92381  0.941748  0.932692"
            ]
          },
          "metadata": {
            "tags": []
          },
          "execution_count": 40
        }
      ]
    },
    {
      "cell_type": "code",
      "metadata": {
        "id": "xFB3nCfEK0d-"
      },
      "source": [
        "test_confusion = confusion_matrix(test_ensemble_df['label'], test_ensemble_df['Pred'])"
      ],
      "execution_count": null,
      "outputs": []
    },
    {
      "cell_type": "code",
      "metadata": {
        "colab": {
          "base_uri": "https://localhost:8080/",
          "height": 459
        },
        "id": "vt7Cy3nubHFZ",
        "outputId": "4f9df848-deb6-4e29-bffe-77e02a975d9f"
      },
      "source": [
        "SMALL_SIZE = 24\n",
        "MEDIUM_SIZE = 24\n",
        "BIGGER_SIZE = 12\n",
        "\n",
        "plt.figure(figsize = (10,7))\n",
        "plt.rc('font', size=SMALL_SIZE)          # controls default text sizes\n",
        "plt.rc('axes', titlesize=SMALL_SIZE)     # fontsize of the axes title\n",
        "plt.rc('axes', labelsize=MEDIUM_SIZE)    # fontsize of the x and y labels\n",
        "plt.rc('xtick', labelsize=SMALL_SIZE)    # fontsize of the tick labels\n",
        "plt.rc('ytick', labelsize=SMALL_SIZE)    # fontsize of the tick labels\n",
        "plt.rc('legend', fontsize=SMALL_SIZE)    # legend fontsize\n",
        "plt.rc('figure', titlesize=BIGGER_SIZE)\n",
        "sn.heatmap(test_confusion, annot=True)"
      ],
      "execution_count": null,
      "outputs": [
        {
          "output_type": "execute_result",
          "data": {
            "text/plain": [
              "<matplotlib.axes._subplots.AxesSubplot at 0x7fe61443a790>"
            ]
          },
          "metadata": {
            "tags": []
          },
          "execution_count": 42
        },
        {
          "output_type": "display_data",
          "data": {
            "image/png": "[encoded data removed]",
            "text/plain": [
              "<Figure size 720x504 with 2 Axes>"
            ]
          },
          "metadata": {
            "tags": [],
            "needs_background": "light"
          }
        }
      ]
    },
    {
      "cell_type": "code",
      "metadata": {
        "id": "992Jak7zbKYx"
      },
      "source": [
        "y_test = test_ensemble_df['label'].astype('int32').values\n",
        "pre_test = test_ensemble_df['Pred'].astype('int32').values"
      ],
      "execution_count": null,
      "outputs": []
    },
    {
      "cell_type": "code",
      "metadata": {
        "colab": {
          "base_uri": "https://localhost:8080/",
          "height": 80
        },
        "id": "ZQGQA1OlbRUA",
        "outputId": "876a91a8-bbd3-4d05-a722-a395a36cae70"
      },
      "source": [
        "fpr, tpr, thresholds = roc_curve(y_test, pre_test)\n",
        "\n",
        "AUC = auc(fpr, tpr)\n",
        "\n",
        "#Accuracy\n",
        "accuracy = accuracy_score(y_test, pre_test)\n",
        "\n",
        "precision = precision_score(y_test, pre_test)\n",
        "\n",
        "recall = recall_score(y_test, pre_test)\n",
        "\n",
        "f1 = f1_score(y_test, pre_test)\n",
        "\n",
        "df_metrics_train = pd.DataFrame([[AUC, accuracy, precision, recall, f1]], columns=['auc', 'accuracy', 'precision', 'recall', 'f1'], index=['result'])\n",
        "df_metrics_train"
      ],
      "execution_count": null,
      "outputs": [
        {
          "output_type": "execute_result",
          "data": {
            "text/html": [
              "<div>\n",
              "<style scoped>\n",
              "    .dataframe tbody tr th:only-of-type {\n",
              "        vertical-align: middle;\n",
              "    }\n",
              "\n",
              "    .dataframe tbody tr th {\n",
              "        vertical-align: top;\n",
              "    }\n",
              "\n",
              "    .dataframe thead th {\n",
              "        text-align: right;\n",
              "    }\n",
              "</style>\n",
              "<table border=\"1\" class=\"dataframe\">\n",
              "  <thead>\n",
              "    <tr style=\"text-align: right;\">\n",
              "      <th></th>\n",
              "      <th>auc</th>\n",
              "      <th>accuracy</th>\n",
              "      <th>precision</th>\n",
              "      <th>recall</th>\n",
              "      <th>f1</th>\n",
              "    </tr>\n",
              "  </thead>\n",
              "  <tbody>\n",
              "    <tr>\n",
              "      <th>result</th>\n",
              "      <td>0.895833</td>\n",
              "      <td>0.916667</td>\n",
              "      <td>0.92</td>\n",
              "      <td>0.958333</td>\n",
              "      <td>0.938776</td>\n",
              "    </tr>\n",
              "  </tbody>\n",
              "</table>\n",
              "</div>"
            ],
            "text/plain": [
              "             auc  accuracy  precision    recall        f1\n",
              "result  0.895833  0.916667       0.92  0.958333  0.938776"
            ]
          },
          "metadata": {
            "tags": []
          },
          "execution_count": 44
        }
      ]
    }
  ]
}